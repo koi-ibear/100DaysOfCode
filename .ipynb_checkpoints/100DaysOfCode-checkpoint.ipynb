{
 "cells": [
  {
   "cell_type": "markdown",
   "metadata": {},
   "source": [
    "# Day 1 : 2017-06-01"
   ]
  },
  {
   "cell_type": "markdown",
   "metadata": {},
   "source": [
    "### Dijkstra's algorithm  \n",
    "https://en.wikipedia.org/wiki/Dijkstra%27s_algorithm  \n",
    "\n",
    "conceived by Dutch computer scientist Edsger Dijkstra in 1956 and published in 1959, is a graph search algorithm that solves the single-source shortest path problem for a graph with nonnegative edge path costs, producing a shortest path tree.   This algorithm is often used in routing and as a subroutine in other graph algorithms.\n",
    "\n",
    "For a given source vertex (node) in the graph, the algorithm finds the path with lowest cost (i.e. the shortest path) between that vertex and every other vertex.   It can also be used for finding costs of shortest paths from a single vertex to a single destination vertex by stopping the algorithm once the shortest path to the destination vertex has been determined.\n",
    "\n",
    "For example, if the vertices of the graph represent cities and edge path costs represent driving distances between pairs of cities connected by a direct road, Dijkstra's algorithm can be used to find the shortest route between one city and all other cities.   As a result, the shortest path first is widely used in network   routing protocols, most notably   IS-IS   and   OSPF   (Open Shortest Path First).\n",
    "\n",
    "The algorithm was extended by the A* search algorithm which uses heuristics to quickly find an approximate solution.\n",
    "\n",
    "### Task\n",
    "1. Implement a version of Dijkstra's algorithm that computes a shortest path from a start vertex to an end vertex in a directed graph.\n",
    "2. Run your program with the following directed graph to find the shortest path from vertex   a   to vertex   e.\n",
    "3. Show the output of your program.  \n",
    "\n",
    "**Vertices**\n",
    "Number\tName  \n",
    "1\ta  \n",
    "2\tb  \n",
    "3\tc  \n",
    "4\td  \n",
    "5\te  \n",
    "6\tf  \n",
    "\n",
    "**Edges**  \n",
    "Start\tEnd\tCost  \n",
    "a\tb\t7  \n",
    "a\tc\t9  \n",
    "a\tf\t14  \n",
    "b\tc\t10  \n",
    "b\td\t15  \n",
    "c\td\t11  \n",
    "c\tf\t2  \n",
    "d\te\t6  \n",
    "e\tf\t9  \n"
   ]
  },
  {
   "cell_type": "code",
   "execution_count": 1,
   "metadata": {
    "collapsed": false
   },
   "outputs": [],
   "source": [
    "Vertices = ['a', 'b', 'c', 'd', 'e', 'f']\n",
    "Edges = [('a','b',7), ('a', 'c', 9), ('a', 'f', 14), ('b','c',10), ('b','d',15), ('c','d',11), ('c','f',2), ('d','e',6), ('e','f',9)]"
   ]
  },
  {
   "cell_type": "code",
   "execution_count": 2,
   "metadata": {
    "collapsed": false
   },
   "outputs": [],
   "source": [
    "def Dijkstra(vertices, edges, start, end):\n",
    "    Distance = {}\n",
    "    for i in Vertices:\n",
    "        Distance[i] = float(\"inf\")\n",
    "    Distance[start] = 0\n",
    "    unvisited = Distance.copy()  \n",
    "    prev = {}\n",
    "    while len(unvisited) > 0:\n",
    "        cur_node = min(unvisited, key=Distance.get)\n",
    "        for i in Edges:\n",
    "            if i[0] == cur_node:\n",
    "                new_dist = Distance[cur_node] + i[2]\n",
    "                if Distance[i[1]] > new_dist:\n",
    "                    Distance[i[1]] = new_dist \n",
    "                    prev[i[1]] = cur_node      \n",
    "        unvisited.pop(cur_node)\n",
    "\n",
    "    path = []\n",
    "    cur = end\n",
    "    path.append(cur)\n",
    "    while cur != start:\n",
    "        path.append(prev[cur])\n",
    "        cur = prev[cur]\n",
    "    path = path[::-1]        \n",
    "\n",
    "    return path, Distance"
   ]
  },
  {
   "cell_type": "code",
   "execution_count": 3,
   "metadata": {
    "collapsed": false
   },
   "outputs": [],
   "source": [
    "path, Distance = Dijkstra(Vertices, Edges, 'a', 'e')"
   ]
  },
  {
   "cell_type": "code",
   "execution_count": 4,
   "metadata": {
    "collapsed": false
   },
   "outputs": [
    {
     "data": {
      "text/plain": [
       "['a', 'c', 'd', 'e']"
      ]
     },
     "execution_count": 4,
     "metadata": {},
     "output_type": "execute_result"
    }
   ],
   "source": [
    "path"
   ]
  },
  {
   "cell_type": "code",
   "execution_count": 5,
   "metadata": {
    "collapsed": false
   },
   "outputs": [
    {
     "data": {
      "text/plain": [
       "{'a': 0, 'b': 7, 'c': 9, 'd': 20, 'e': 26, 'f': 11}"
      ]
     },
     "execution_count": 5,
     "metadata": {},
     "output_type": "execute_result"
    }
   ],
   "source": [
    "Distance"
   ]
  },
  {
   "cell_type": "markdown",
   "metadata": {},
   "source": [
    "**Using Class**"
   ]
  },
  {
   "cell_type": "code",
   "execution_count": 6,
   "metadata": {
    "collapsed": false
   },
   "outputs": [],
   "source": [
    "from collections import deque, namedtuple\n",
    "Edges = namedtuple('Edge', 'start, end, cost')\n",
    "inf = float('inf')\n",
    "class Graph(): \n",
    "    def __init__(self, edges):\n",
    "        self.edges = [Edges(*e) for e in edges]\n",
    "        self.vertices = set(sum(([e.start, e.end] for e in self.edges), []))\n",
    "    \n",
    "    def dijkstra(self, source, dest):\n",
    "        dist = {vertice: inf for vertice in self.vertices}\n",
    "        dist[source] = 0\n",
    "        previous = {vertice: None for vertice in self.vertices}\n",
    "        unvisited = self.vertices.copy()\n",
    "        neighbors = {vertice: set() for vertice in self.vertices}\n",
    "        for start, end, cost in self.edges:\n",
    "            neighbors[start].add((end, cost))\n",
    "        while unvisited:\n",
    "            cur = min(unvisited, key = lambda k: dist[k])\n",
    "            unvisited.remove(cur)\n",
    "            if dist[cur] == inf or cur == dest:\n",
    "                break\n",
    "            for d, c in neighbors[cur]:\n",
    "                new_dist = dist[cur] + c\n",
    "                if new_dist < dist[d]:\n",
    "                    dist[d] = new_dist\n",
    "                    previous[d] = cur\n",
    "            \n",
    "        s, u = deque(), dest\n",
    "        while previous[u]:\n",
    "            s.appendleft(u)\n",
    "            u = previous[u]\n",
    "        s.appendleft(u)\n",
    "        return s, dist, previous"
   ]
  },
  {
   "cell_type": "code",
   "execution_count": 7,
   "metadata": {
    "collapsed": false
   },
   "outputs": [],
   "source": [
    "graph = Graph([(\"a\", \"b\", 7),  (\"a\", \"c\", 9),  (\"a\", \"f\", 14), (\"b\", \"c\", 10),\n",
    "               (\"b\", \"d\", 15), (\"c\", \"d\", 11), (\"c\", \"f\", 2),  (\"d\", \"e\", 6),\n",
    "               (\"e\", \"f\", 9)])"
   ]
  },
  {
   "cell_type": "code",
   "execution_count": 8,
   "metadata": {
    "collapsed": false
   },
   "outputs": [
    {
     "data": {
      "text/plain": [
       "(deque(['a', 'c', 'd', 'e']),\n",
       " {'a': 0, 'b': 7, 'c': 9, 'd': 20, 'e': 26, 'f': 11},\n",
       " {'a': None, 'b': 'a', 'c': 'a', 'd': 'c', 'e': 'd', 'f': 'c'})"
      ]
     },
     "execution_count": 8,
     "metadata": {},
     "output_type": "execute_result"
    }
   ],
   "source": [
    "graph.dijkstra(\"a\", \"e\")"
   ]
  },
  {
   "cell_type": "code",
   "execution_count": null,
   "metadata": {
    "collapsed": true
   },
   "outputs": [],
   "source": []
  },
  {
   "cell_type": "markdown",
   "metadata": {},
   "source": [
    "# Day 2 : 2017-06-02"
   ]
  },
  {
   "cell_type": "markdown",
   "metadata": {},
   "source": [
    "### A* search algorithm\n",
    "\n",
    "https://en.wikipedia.org/wiki/A*_search_algorithm  \n",
    "\n",
    "Consider the problem of finding a route across the diagonal of a chess board-like 8x8 grid. The rows are numbered from 0 to 7. The columns are also numbered 0 to 7. The start position is (0, 0) and the end position is (7, 7). Movement is allow by one square in any direction including diagonals, similar to a king in chess. The standard movement cost is 1. To make things slightly harder, there is a barrier that occupy certain positions of the grid. Moving into any of the barrier positions has a cost of 100.\n",
    "\n",
    "The barrier occupies the positions (2,4), (2,5), (2,6), (3,6), (4,6), (5,6), (5,5), (5,4), (5,3), (5,2), (4,2) and (3,2).\n",
    "\n",
    "A route with the lowest cost should be found using the A* search algorithm (there are multiple optimal solutions with the same total cost).\n",
    "\n",
    "Print the optimal route in text format, as well as the total cost of the route.\n",
    "\n",
    "Optionally, draw the optimal route and the barrier positions.\n",
    "\n",
    "Note: using a heuristic score of zero is equivalent to Dijkstra's algorithm and that's kind of cheating/not really A*!\n",
    "\n"
   ]
  },
  {
   "cell_type": "code",
   "execution_count": 9,
   "metadata": {
    "collapsed": false
   },
   "outputs": [],
   "source": [
    "import itertools\n",
    "from collections import deque\n",
    "class Graph():\n",
    "    def __init__(self, chessBoardDim, barrier, regCost, barrierCost):\n",
    "        self.chessBoardDim = chessBoardDim\n",
    "        self.chessBoard = [i for i in itertools.product(range(chessBoardDim[0]),range(chessBoardDim[1]))]\n",
    "        self.barrier = barrier\n",
    "        self.regCost = regCost\n",
    "        self.barrierCost = barrierCost\n",
    "    \n",
    "    def find_neighbor(self, cur):\n",
    "        neighbor = set([(cur[0]+i,cur[1]+j) for i,j in itertools.product([-1,0,1],[-1,0,1])])\n",
    "        neighbor.remove(cur)\n",
    "        neighbor = set(neighbor.intersection(self.chessBoard))\n",
    "        return neighbor\n",
    "    \n",
    "    def a_star_search(self, start, end):\n",
    "        open_set = set()  # \"neighbors\" to be searched\n",
    "        open_set.add(start)\n",
    "        dist = {}\n",
    "        dist[start] = 0\n",
    "        close_set = set()  # move searched nodes here\n",
    "        fromNode = {}  # track path\n",
    "        while open_set:\n",
    "            cur = min(open_set, key = lambda x: dist[x])\n",
    "            neighbors = self.find_neighbor(cur)\n",
    "            for nb in neighbors:\n",
    "                if nb in close_set:\n",
    "                    continue\n",
    "                open_set.add(nb)\n",
    "                if nb in self.barrier:\n",
    "                    cost = 100\n",
    "                else:\n",
    "                    cost = 1\n",
    "                newDist = cost + dist[cur]\n",
    "                try:\n",
    "                    if newDist < dist[nb]:\n",
    "                        dist[nb] = newDist\n",
    "                        fromNode[nb] = cur\n",
    "                except KeyError:\n",
    "                    dist[nb] = dist[cur] + cost\n",
    "                    fromNode[nb] = cur\n",
    "                if nb == end:\n",
    "                    break\n",
    "            close_set.add(cur)\n",
    "            open_set.remove(cur)\n",
    "        \n",
    "        path, u = deque(), end\n",
    "        while u != start:\n",
    "            path.appendleft(fromNode[u])\n",
    "            u = fromNode[u]\n",
    "        path.appendleft(u)\n",
    "        return dist, path"
   ]
  },
  {
   "cell_type": "code",
   "execution_count": 10,
   "metadata": {
    "collapsed": false
   },
   "outputs": [],
   "source": [
    "graph = Graph([8,8], [(2,4), (2,5), (2,6), (3,6), (4,6), (5,6), (5,5), (5,4), (5,3), (5,2), (4,2), (3,2)], 1, 100)"
   ]
  },
  {
   "cell_type": "code",
   "execution_count": 11,
   "metadata": {
    "collapsed": false
   },
   "outputs": [
    {
     "data": {
      "text/plain": [
       "{(0, 1), (1, 0), (1, 1)}"
      ]
     },
     "execution_count": 11,
     "metadata": {},
     "output_type": "execute_result"
    }
   ],
   "source": [
    "graph.find_neighbor((0,0))"
   ]
  },
  {
   "cell_type": "code",
   "execution_count": 12,
   "metadata": {
    "collapsed": false
   },
   "outputs": [
    {
     "data": {
      "text/plain": [
       "({(0, 0): 0,\n",
       "  (0, 1): 1,\n",
       "  (0, 2): 2,\n",
       "  (0, 3): 3,\n",
       "  (0, 4): 4,\n",
       "  (0, 5): 5,\n",
       "  (0, 6): 6,\n",
       "  (0, 7): 7,\n",
       "  (1, 0): 1,\n",
       "  (1, 1): 1,\n",
       "  (1, 2): 2,\n",
       "  (1, 3): 3,\n",
       "  (1, 4): 4,\n",
       "  (1, 5): 5,\n",
       "  (1, 6): 6,\n",
       "  (1, 7): 7,\n",
       "  (2, 0): 2,\n",
       "  (2, 1): 2,\n",
       "  (2, 2): 2,\n",
       "  (2, 3): 3,\n",
       "  (2, 4): 103,\n",
       "  (2, 5): 104,\n",
       "  (2, 6): 105,\n",
       "  (2, 7): 7,\n",
       "  (3, 0): 3,\n",
       "  (3, 1): 3,\n",
       "  (3, 2): 102,\n",
       "  (3, 3): 3,\n",
       "  (3, 4): 4,\n",
       "  (3, 5): 5,\n",
       "  (3, 6): 105,\n",
       "  (3, 7): 8,\n",
       "  (4, 0): 4,\n",
       "  (4, 1): 4,\n",
       "  (4, 2): 103,\n",
       "  (4, 3): 4,\n",
       "  (4, 4): 4,\n",
       "  (4, 5): 5,\n",
       "  (4, 6): 105,\n",
       "  (4, 7): 9,\n",
       "  (5, 0): 5,\n",
       "  (5, 1): 5,\n",
       "  (5, 2): 104,\n",
       "  (5, 3): 104,\n",
       "  (5, 4): 104,\n",
       "  (5, 5): 104,\n",
       "  (5, 6): 105,\n",
       "  (5, 7): 10,\n",
       "  (6, 0): 6,\n",
       "  (6, 1): 6,\n",
       "  (6, 2): 6,\n",
       "  (6, 3): 7,\n",
       "  (6, 4): 8,\n",
       "  (6, 5): 9,\n",
       "  (6, 6): 10,\n",
       "  (6, 7): 11,\n",
       "  (7, 0): 7,\n",
       "  (7, 1): 7,\n",
       "  (7, 2): 7,\n",
       "  (7, 3): 7,\n",
       "  (7, 4): 8,\n",
       "  (7, 5): 9,\n",
       "  (7, 6): 10,\n",
       "  (7, 7): 11},\n",
       " deque([(0, 0),\n",
       "        (0, 0),\n",
       "        (1, 1),\n",
       "        (2, 1),\n",
       "        (3, 0),\n",
       "        (4, 1),\n",
       "        (5, 1),\n",
       "        (6, 2),\n",
       "        (7, 3),\n",
       "        (6, 4),\n",
       "        (7, 5),\n",
       "        (6, 6)]))"
      ]
     },
     "execution_count": 12,
     "metadata": {},
     "output_type": "execute_result"
    }
   ],
   "source": [
    "graph.a_star_search((0,0),(7,7))"
   ]
  },
  {
   "cell_type": "code",
   "execution_count": null,
   "metadata": {
    "collapsed": true
   },
   "outputs": [],
   "source": []
  },
  {
   "cell_type": "markdown",
   "metadata": {},
   "source": [
    "# Day 3 : 2017-06-03"
   ]
  },
  {
   "cell_type": "markdown",
   "metadata": {},
   "source": [
    "### Card Shuffle\n",
    "\n",
    "There are many techniques that people use to shuffle cards for card games. Some are more effective than others.\n",
    "\n",
    "The task here is to implement the (seemingly) more common techniques of the riffle shuffle and overhand shuffle for n iterations. Implementing playing cards is not necessary if it would be easier to implement these shuffling methods for generic collections. Where possible, compare this to a standard/built-in shuffling procedure.\n",
    "\n",
    "**One iteration of the riffle shuffle is defined as:**\n",
    "\n",
    "Split the deck into two piles\n",
    "Merge the two piles by alternating taking one card from the top or bottom (the same throughout the whole merge) of each pile\n",
    "The merged deck is now the new \"shuffled\" deck\n",
    "\n",
    "**One iteration of the overhand shuffle is defined as:**\n",
    "\n",
    "Take a group of consecutive cards from the top of the deck. For our purposes up to 20% of the deck seems like a good amount.\n",
    "Place that group on top of a second pile\n",
    "Repeat these steps until there are no cards remaining in the original deck\n",
    "The second pile is now the new \"shuffled\" deck\n",
    "Bonus: Implement other methods described here. Allow for \"human errors\" of imperfect cutting and interleaving."
   ]
  },
  {
   "cell_type": "code",
   "execution_count": 82,
   "metadata": {
    "collapsed": false
   },
   "outputs": [],
   "source": [
    "class shuffle():\n",
    "    def __init__(self, cards):\n",
    "        self.cards = cards\n",
    "    def riffleSuffle(self):\n",
    "        deckOneLen = len(self.cards) // 2\n",
    "        deckTwoLen = len(self.cards) - deckOneLen\n",
    "        deckOne = self.cards[0: deckOneLen]\n",
    "        deckTwo = self.cards[deckOneLen: (deckOneLen+deckTwoLen)]\n",
    "        shuffled = []\n",
    "        while max(len(deckOne), len(deckTwo)) > 0:\n",
    "            try:\n",
    "                shuffled.append(deckTwo.pop())\n",
    "            except IndexError:\n",
    "                continue\n",
    "            try:\n",
    "                shuffled.append(deckOne.pop())\n",
    "            except IndexError:\n",
    "                continue\n",
    "        return shuffled[::-1]\n",
    "    \n",
    "    def overhandShuffle(self, ratio = 0.2):\n",
    "        step = int(len(self.cards) * ratio)\n",
    "        if step < 1:\n",
    "            print('NOT ENOUGH CARDS!!')\n",
    "            return\n",
    "        remain = self.cards.copy()\n",
    "        shuffled = []\n",
    "        while len(remain) >= step:\n",
    "            shuffled += remain[-step::]  # a[-n::] last n elements in a\n",
    "            remain = remain[:-step]      # a[:-n] elements before last n\n",
    "        shuffled += remain\n",
    "        return shuffled"
   ]
  },
  {
   "cell_type": "code",
   "execution_count": 91,
   "metadata": {
    "collapsed": false
   },
   "outputs": [
    {
     "data": {
      "text/plain": [
       "[0,\n",
       " 15,\n",
       " 1,\n",
       " 16,\n",
       " 2,\n",
       " 17,\n",
       " 3,\n",
       " 18,\n",
       " 4,\n",
       " 19,\n",
       " 5,\n",
       " 20,\n",
       " 6,\n",
       " 21,\n",
       " 7,\n",
       " 22,\n",
       " 8,\n",
       " 23,\n",
       " 9,\n",
       " 24,\n",
       " 10,\n",
       " 25,\n",
       " 11,\n",
       " 26,\n",
       " 12,\n",
       " 27,\n",
       " 13,\n",
       " 28,\n",
       " 14,\n",
       " 29]"
      ]
     },
     "execution_count": 91,
     "metadata": {},
     "output_type": "execute_result"
    }
   ],
   "source": [
    "cards = [i for i in range(30)]\n",
    "s = shuffle(cards)\n",
    "s.riffleSuffle()"
   ]
  },
  {
   "cell_type": "code",
   "execution_count": 92,
   "metadata": {
    "collapsed": false
   },
   "outputs": [
    {
     "data": {
      "text/plain": [
       "[24,\n",
       " 25,\n",
       " 26,\n",
       " 27,\n",
       " 28,\n",
       " 29,\n",
       " 18,\n",
       " 19,\n",
       " 20,\n",
       " 21,\n",
       " 22,\n",
       " 23,\n",
       " 12,\n",
       " 13,\n",
       " 14,\n",
       " 15,\n",
       " 16,\n",
       " 17,\n",
       " 6,\n",
       " 7,\n",
       " 8,\n",
       " 9,\n",
       " 10,\n",
       " 11,\n",
       " 0,\n",
       " 1,\n",
       " 2,\n",
       " 3,\n",
       " 4,\n",
       " 5]"
      ]
     },
     "execution_count": 92,
     "metadata": {},
     "output_type": "execute_result"
    }
   ],
   "source": [
    "s.overhandShuffle()"
   ]
  },
  {
   "cell_type": "code",
   "execution_count": null,
   "metadata": {
    "collapsed": true
   },
   "outputs": [],
   "source": []
  },
  {
   "cell_type": "markdown",
   "metadata": {},
   "source": [
    "# Day 4 : 2017-06-04"
   ]
  },
  {
   "cell_type": "markdown",
   "metadata": {},
   "source": [
    "### Birthday Problem\n",
    "In probability theory, the birthday problem, or birthday paradox This is not a paradox in the sense of leading to a logical contradiction, but is called a paradox because the mathematical truth contradicts naïve intuition: most people estimate that the chance is much lower than 50%. pertains to the probability that in a set of randomly chosen people some pair of them will have the same birthday. In a group of at least 23 randomly chosen people, there is more than 50% probability that some pair of them will both have been born on the same day. For 57 or more people, the probability is more than 99%, and it reaches 100% when the number of people reaches 366 (by the pigeon hole principle, ignoring leap years). The mathematics behind this problem leads to a well-known cryptographic attack called the birthday attack.\n",
    "\n",
    "**Task**  \n",
    "Using simulation, estimate the number of independent people required in a groups before we can expect a better than even chance that at least 2 independent people in a group share a common birthday. Furthermore: Simulate and thus estimate when we can expect a better than even chance that at least 3, 4 & 5 independent people of the group share a common birthday. For simplicity assume that all of the people are alive...\n",
    "\n",
    "**Suggestions for improvement**  \n",
    "Estimating the error in the estimate to help ensure the estimate is accurate to 4 decimal places.\n",
    "Converging to the {\\displaystyle n} th solution using a root finding method, as opposed to using an extensive search.\n",
    "Kudos (κῦδος) for finding the solution by proof (in a programming language) rather than by construction and simulation.\n",
    "\n",
    "\n"
   ]
  },
  {
   "cell_type": "code",
   "execution_count": null,
   "metadata": {
    "collapsed": true
   },
   "outputs": [],
   "source": [
    "import random"
   ]
  },
  {
   "cell_type": "code",
   "execution_count": null,
   "metadata": {
    "collapsed": true
   },
   "outputs": [],
   "source": []
  },
  {
   "cell_type": "code",
   "execution_count": null,
   "metadata": {
    "collapsed": true
   },
   "outputs": [],
   "source": []
  }
 ],
 "metadata": {
  "kernelspec": {
   "display_name": "Python 3",
   "language": "python",
   "name": "python3"
  },
  "language_info": {
   "codemirror_mode": {
    "name": "ipython",
    "version": 3
   },
   "file_extension": ".py",
   "mimetype": "text/x-python",
   "name": "python",
   "nbconvert_exporter": "python",
   "pygments_lexer": "ipython3",
   "version": "3.5.1"
  }
 },
 "nbformat": 4,
 "nbformat_minor": 0
}
